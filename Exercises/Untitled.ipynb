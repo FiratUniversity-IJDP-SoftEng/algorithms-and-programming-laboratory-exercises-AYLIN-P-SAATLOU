{
 "cells": [
  {
   "cell_type": "code",
   "execution_count": 1,
   "id": "719b78e3-82ae-4b00-8f50-dc4781f7bb5b",
   "metadata": {},
   "outputs": [],
   "source": [
    "numbers = list(range (1 ,11))"
   ]
  },
  {
   "cell_type": "code",
   "execution_count": 2,
   "id": "4193cab5-b588-4f55-850f-ee6bb0e1b4de",
   "metadata": {},
   "outputs": [
    {
     "name": "stdout",
     "output_type": "stream",
     "text": [
      "Original list:  [1, 2, 3, 4, 5, 6, 7, 8, 9, 10]\n"
     ]
    }
   ],
   "source": [
    "print(\"Original list: \", numbers)"
   ]
  },
  {
   "cell_type": "code",
   "execution_count": 3,
   "id": "6b276c07-4d86-4520-947e-bce74e45f42f",
   "metadata": {},
   "outputs": [
    {
     "name": "stdout",
     "output_type": "stream",
     "text": [
      "Reversed list:  [10, 9, 8, 7, 6, 5, 4, 3, 2, 1]\n"
     ]
    }
   ],
   "source": [
    "numbers.reverse()\n",
    "print(\"Reversed list: \", numbers)"
   ]
  },
  {
   "cell_type": "code",
   "execution_count": 5,
   "id": "e4f0a746-9ffa-47b5-8907-abdd7592b5a4",
   "metadata": {},
   "outputs": [
    {
     "name": "stdout",
     "output_type": "stream",
     "text": [
      "List after adding 11, 12 and 13:  [10, 9, 8, 7, 6, 5, 4, 3, 2, 1, 11, 12, 13]\n"
     ]
    }
   ],
   "source": [
    "numbers.extend([11, 12, 13])\n",
    "print(\"List after adding 11, 12 and 13: \", numbers)"
   ]
  },
  {
   "cell_type": "code",
   "execution_count": 6,
   "id": "8583aef5-8141-498c-8d1b-33a107d39ec9",
   "metadata": {},
   "outputs": [
    {
     "name": "stdout",
     "output_type": "stream",
     "text": [
      "Length of the list:  13\n"
     ]
    }
   ],
   "source": [
    "print(\"Length of the list: \", len(numbers))"
   ]
  },
  {
   "cell_type": "code",
   "execution_count": 7,
   "id": "86b62bf7-cb61-4e25-91c0-9f17c915ec08",
   "metadata": {},
   "outputs": [
    {
     "name": "stdout",
     "output_type": "stream",
     "text": [
      "List after removing first and last elements:  [9, 8, 7, 6, 5, 4, 3, 2, 1, 11, 12]\n"
     ]
    }
   ],
   "source": [
    "numbers.pop(0)\n",
    "numbers.pop(-1)\n",
    "print(\"List after removing first and last elements: \", numbers)"
   ]
  },
  {
   "cell_type": "code",
   "execution_count": 8,
   "id": "4f7cde74-c206-4316-b489-6b0a817f0986",
   "metadata": {},
   "outputs": [
    {
     "name": "stdout",
     "output_type": "stream",
     "text": [
      "Sorted list of even numbers:  [2, 4, 6, 8, 12]\n"
     ]
    }
   ],
   "source": [
    "even_numbers = sorted([num for num in numbers if num % 2 == 0])\n",
    "print(\"Sorted list of even numbers: \", even_numbers)"
   ]
  },
  {
   "cell_type": "code",
   "execution_count": null,
   "id": "55d7b7f0-0fcf-417c-bd30-83174abb1288",
   "metadata": {},
   "outputs": [],
   "source": []
  }
 ],
 "metadata": {
  "kernelspec": {
   "display_name": "Python 3 (ipykernel)",
   "language": "python",
   "name": "python3"
  },
  "language_info": {
   "codemirror_mode": {
    "name": "ipython",
    "version": 3
   },
   "file_extension": ".py",
   "mimetype": "text/x-python",
   "name": "python",
   "nbconvert_exporter": "python",
   "pygments_lexer": "ipython3",
   "version": "3.12.9"
  }
 },
 "nbformat": 4,
 "nbformat_minor": 5
}
