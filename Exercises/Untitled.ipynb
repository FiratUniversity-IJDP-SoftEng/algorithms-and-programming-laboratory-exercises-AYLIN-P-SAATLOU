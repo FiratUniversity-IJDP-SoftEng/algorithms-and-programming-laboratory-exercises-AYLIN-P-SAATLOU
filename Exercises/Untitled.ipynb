{
 "cells": [
  {
   "cell_type": "code",
   "execution_count": 6,
   "id": "5fb41ef7-4634-45aa-aa87-525b3400a9fa",
   "metadata": {},
   "outputs": [],
   "source": [
    "def calculator():\n",
    "    while True:\n",
    "        try:\n",
    "            num1 = float(input(\"Enter the first number: \"))\n",
    "            num2 = float(input(\"Enter the second number: \"))\n",
    "\n",
    "            operation = input(\"Enter operation (+, -, *, /): \").strip()\n",
    "\n",
    "            if operation == \"+\":\n",
    "                result = num1 + num2\n",
    "            elif operation == \"-\":\n",
    "                result = num1 - num2\n",
    "            elif operation == \"*\":\n",
    "                result = num1 * num2\n",
    "            elif operation == \"/\":\n",
    "\n",
    "                if num2 == 0:\n",
    "                    print(\"Error: Division by zero is not allowed.\")\n",
    "                    continue\n",
    "                result = num1 / num2\n",
    "            else:\n",
    "                print(\"Invalid operation! Please enter one of (+, -, *, /).\")\n",
    "                continue\n",
    "\n",
    "            print(f\"The result of {num1} {operation} {num2} = {result:.2f}\")\n",
    "\n",
    "        except ValueError:\n",
    "            print(\"Invalid input! Please enter numeric values.\")\n",
    "            continue\n",
    "\n",
    "        another_calculation = input(\"Do you want to perform another calculation? (yes/no): \").strip().lower()\n",
    "        if another_calculation != \"yes\":\n",
    "            print(\"See you later!\")\n",
    "            break\n"
   ]
  },
  {
   "cell_type": "code",
   "execution_count": 7,
   "id": "54f25587-fa4d-452b-83c2-a804429444e6",
   "metadata": {},
   "outputs": [
    {
     "name": "stdin",
     "output_type": "stream",
     "text": [
      "Enter the first number:  10\n",
      "Enter the second number:  5\n",
      "Enter operation (+, -, *, /):  /\n"
     ]
    },
    {
     "name": "stdout",
     "output_type": "stream",
     "text": [
      "The result of 10.0 / 5.0 = 2.00\n"
     ]
    },
    {
     "name": "stdin",
     "output_type": "stream",
     "text": [
      "Do you want to perform another calculation? (yes/no):  yes\n",
      "Enter the first number:  2\n",
      "Enter the second number:  2\n",
      "Enter operation (+, -, *, /):  *\n"
     ]
    },
    {
     "name": "stdout",
     "output_type": "stream",
     "text": [
      "The result of 2.0 * 2.0 = 4.00\n"
     ]
    },
    {
     "name": "stdin",
     "output_type": "stream",
     "text": [
      "Do you want to perform another calculation? (yes/no):  no\n"
     ]
    },
    {
     "name": "stdout",
     "output_type": "stream",
     "text": [
      "See you later!\n"
     ]
    }
   ],
   "source": [
    "calculator()"
   ]
  },
  {
   "cell_type": "code",
   "execution_count": null,
   "id": "e6d10db9-50ba-4672-a0d0-598d04e86721",
   "metadata": {},
   "outputs": [],
   "source": []
  }
 ],
 "metadata": {
  "kernelspec": {
   "display_name": "Python 3 (ipykernel)",
   "language": "python",
   "name": "python3"
  },
  "language_info": {
   "codemirror_mode": {
    "name": "ipython",
    "version": 3
   },
   "file_extension": ".py",
   "mimetype": "text/x-python",
   "name": "python",
   "nbconvert_exporter": "python",
   "pygments_lexer": "ipython3",
   "version": "3.12.9"
  }
 },
 "nbformat": 4,
 "nbformat_minor": 5
}
