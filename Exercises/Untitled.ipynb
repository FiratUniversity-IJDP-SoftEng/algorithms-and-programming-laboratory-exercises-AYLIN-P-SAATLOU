{
 "cells": [
  {
   "cell_type": "code",
   "execution_count": 23,
   "id": "1115ee51-a252-46b7-b867-fe37ccbdd1ef",
   "metadata": {},
   "outputs": [],
   "source": [
    "from datetime import datetime"
   ]
  },
  {
   "cell_type": "code",
   "execution_count": 24,
   "id": "d77dcf4c-d167-4983-aa14-5e33cb31a241",
   "metadata": {},
   "outputs": [],
   "source": [
    "now = datetime.now()"
   ]
  },
  {
   "cell_type": "code",
   "execution_count": 26,
   "id": "59f09676-82a8-4cef-a647-73f9d837f8a9",
   "metadata": {},
   "outputs": [],
   "source": [
    "current_date = now.strftime(\"%Y-%m-%d\")"
   ]
  },
  {
   "cell_type": "code",
   "execution_count": 32,
   "id": "89cf3e98-e33e-46d1-938f-5b44dc48d61c",
   "metadata": {},
   "outputs": [],
   "source": [
    "current_time = now.strftime(\"%H:%M:%S\")"
   ]
  },
  {
   "cell_type": "code",
   "execution_count": 37,
   "id": "a4ffb921-cfe1-4c37-8159-436f9095415b",
   "metadata": {},
   "outputs": [
    {
     "name": "stdout",
     "output_type": "stream",
     "text": [
      "Current date:  2025-03-13\n",
      "Current time:  14:53:37\n",
      "Current date and time:  2025-03-13 14:53:37\n"
     ]
    }
   ],
   "source": [
    "print(\"Current date: \", current_date)\n",
    "print(\"Current time: \", current_time)\n",
    "print(\"Current date and time: \", current_date , current_time)"
   ]
  },
  {
   "cell_type": "code",
   "execution_count": null,
   "id": "968d35ff-ba85-497a-b8a5-1cfd64f7978d",
   "metadata": {},
   "outputs": [],
   "source": []
  }
 ],
 "metadata": {
  "kernelspec": {
   "display_name": "Python 3 (ipykernel)",
   "language": "python",
   "name": "python3"
  },
  "language_info": {
   "codemirror_mode": {
    "name": "ipython",
    "version": 3
   },
   "file_extension": ".py",
   "mimetype": "text/x-python",
   "name": "python",
   "nbconvert_exporter": "python",
   "pygments_lexer": "ipython3",
   "version": "3.12.9"
  }
 },
 "nbformat": 4,
 "nbformat_minor": 5
}
