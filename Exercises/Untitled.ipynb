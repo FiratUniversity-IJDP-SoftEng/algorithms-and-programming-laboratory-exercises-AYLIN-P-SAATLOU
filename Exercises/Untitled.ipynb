{
 "cells": [
  {
   "cell_type": "code",
   "execution_count": 15,
   "id": "e0ae2407-a640-4ee5-935f-e911c3dfd821",
   "metadata": {},
   "outputs": [
    {
     "name": "stdin",
     "output_type": "stream",
     "text": [
      "Enter the number of rows:  6\n"
     ]
    }
   ],
   "source": [
    "n = int(input(\"Enter the number of rows: \"))"
   ]
  },
  {
   "cell_type": "code",
   "execution_count": 16,
   "id": "e4f9aa72-c041-45e8-9682-7e20ac5f56ab",
   "metadata": {},
   "outputs": [
    {
     "name": "stdout",
     "output_type": "stream",
     "text": [
      "     *\n",
      "    ***\n",
      "   *****\n",
      "  *******\n",
      " *********\n",
      "***********\n"
     ]
    }
   ],
   "source": [
    "for i in range(1, n + 1):\n",
    "    print(\" \" * (n - i), end=\"\")\n",
    "    print(\"*\" * (2 * i - 1))"
   ]
  },
  {
   "cell_type": "code",
   "execution_count": null,
   "id": "cf0d7641-cda7-4cc5-81d4-ec8f50e7212b",
   "metadata": {},
   "outputs": [],
   "source": []
  }
 ],
 "metadata": {
  "kernelspec": {
   "display_name": "Python 3 (ipykernel)",
   "language": "python",
   "name": "python3"
  },
  "language_info": {
   "codemirror_mode": {
    "name": "ipython",
    "version": 3
   },
   "file_extension": ".py",
   "mimetype": "text/x-python",
   "name": "python",
   "nbconvert_exporter": "python",
   "pygments_lexer": "ipython3",
   "version": "3.12.9"
  }
 },
 "nbformat": 4,
 "nbformat_minor": 5
}
