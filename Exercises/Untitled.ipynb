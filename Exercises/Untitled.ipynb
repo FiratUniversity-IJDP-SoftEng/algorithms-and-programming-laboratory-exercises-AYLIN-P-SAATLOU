{
 "cells": [
  {
   "cell_type": "code",
   "execution_count": 41,
   "id": "161816c4-7479-4ba6-b26b-bd0d17e336e8",
   "metadata": {},
   "outputs": [],
   "source": [
    "import math"
   ]
  },
  {
   "cell_type": "code",
   "execution_count": null,
   "id": "bbaa130f-cb89-4635-8eac-e08b7ca28dca",
   "metadata": {},
   "outputs": [],
   "source": [
    "radius = float(input(\"Enter the radius of the circle: \"))"
   ]
  },
  {
   "cell_type": "code",
   "execution_count": 44,
   "id": "a7df4738-41e0-4d9d-bb99-c6e516876b6b",
   "metadata": {},
   "outputs": [],
   "source": [
    "area = math.pi * radius ** 2"
   ]
  },
  {
   "cell_type": "code",
   "execution_count": 45,
   "id": "c982d0eb-67a9-48f9-95ff-84cdb0c04ae6",
   "metadata": {},
   "outputs": [
    {
     "name": "stdout",
     "output_type": "stream",
     "text": [
      "The area of the circle with radius 5.0 is: 78.54\n"
     ]
    }
   ],
   "source": [
    "print(f\"The area of the circle with radius {radius} is: {area:.2f}\")"
   ]
  },
  {
   "cell_type": "code",
   "execution_count": null,
   "id": "4d30c00a-c07d-483f-8938-da88f07f95e3",
   "metadata": {},
   "outputs": [],
   "source": []
  }
 ],
 "metadata": {
  "kernelspec": {
   "display_name": "Python 3 (ipykernel)",
   "language": "python",
   "name": "python3"
  },
  "language_info": {
   "codemirror_mode": {
    "name": "ipython",
    "version": 3
   },
   "file_extension": ".py",
   "mimetype": "text/x-python",
   "name": "python",
   "nbconvert_exporter": "python",
   "pygments_lexer": "ipython3",
   "version": "3.12.9"
  }
 },
 "nbformat": 4,
 "nbformat_minor": 5
}
