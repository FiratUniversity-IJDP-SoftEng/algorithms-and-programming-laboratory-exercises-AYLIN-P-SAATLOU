{
 "cells": [
  {
   "cell_type": "code",
   "execution_count": 9,
   "id": "55d7b7f0-0fcf-417c-bd30-83174abb1288",
   "metadata": {},
   "outputs": [
    {
     "name": "stdin",
     "output_type": "stream",
     "text": [
      "Enter a string:  hello\n"
     ]
    }
   ],
   "source": [
    "user_input = input(\"Enter a string: \")"
   ]
  },
  {
   "cell_type": "code",
   "execution_count": 10,
   "id": "43bd07bf-abc7-493b-b954-3c9882bff3c0",
   "metadata": {},
   "outputs": [],
   "source": [
    "char_frequency = {}\n",
    "for char in user_input:\n",
    "    if char in char_frequency:\n",
    "        char_frequency[char] += 1\n",
    "    else:\n",
    "        char_frequency[char] = 1"
   ]
  },
  {
   "cell_type": "code",
   "execution_count": 11,
   "id": "8f4bfbe9-2315-4db2-812f-f38001a1f970",
   "metadata": {},
   "outputs": [],
   "source": [
    "sorted_frequency = dict(sorted(char_frequency.items()))"
   ]
  },
  {
   "cell_type": "code",
   "execution_count": 12,
   "id": "5498c7f9-5b7d-4887-bcc8-6ee0e48c4701",
   "metadata": {},
   "outputs": [
    {
     "name": "stdout",
     "output_type": "stream",
     "text": [
      "Character frequencies: \n",
      "e: 1\n",
      "h: 1\n",
      "l: 2\n",
      "o: 1\n"
     ]
    }
   ],
   "source": [
    "print(\"Character frequencies: \")\n",
    "for char, count in sorted_frequency.items():\n",
    "    print(f\"{char}: {count}\")"
   ]
  },
  {
   "cell_type": "code",
   "execution_count": null,
   "id": "d5a6c560-b96d-4f33-a4fc-5be747f6b936",
   "metadata": {},
   "outputs": [],
   "source": []
  }
 ],
 "metadata": {
  "kernelspec": {
   "display_name": "Python 3 (ipykernel)",
   "language": "python",
   "name": "python3"
  },
  "language_info": {
   "codemirror_mode": {
    "name": "ipython",
    "version": 3
   },
   "file_extension": ".py",
   "mimetype": "text/x-python",
   "name": "python",
   "nbconvert_exporter": "python",
   "pygments_lexer": "ipython3",
   "version": "3.12.9"
  }
 },
 "nbformat": 4,
 "nbformat_minor": 5
}
