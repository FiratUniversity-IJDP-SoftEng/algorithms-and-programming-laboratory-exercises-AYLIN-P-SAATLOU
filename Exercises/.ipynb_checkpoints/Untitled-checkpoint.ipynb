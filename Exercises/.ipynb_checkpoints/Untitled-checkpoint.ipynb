{
 "cells": [
  {
   "cell_type": "code",
   "execution_count": 81,
   "id": "f961ea6d-237c-469c-8869-a714af8266f8",
   "metadata": {},
   "outputs": [
    {
     "name": "stdin",
     "output_type": "stream",
     "text": [
      "Enter your first name:  Aylin\n"
     ]
    }
   ],
   "source": [
    "first_name = input(\"Enter your first name: \")"
   ]
  },
  {
   "cell_type": "code",
   "execution_count": 83,
   "id": "a72a8db3-4fae-4823-b77e-6c1c9ac24149",
   "metadata": {},
   "outputs": [
    {
     "name": "stdin",
     "output_type": "stream",
     "text": [
      "Enter your last name:  Pourmohammad\n"
     ]
    }
   ],
   "source": [
    "last_name = input (\"Enter your last name: \")"
   ]
  },
  {
   "cell_type": "code",
   "execution_count": 79,
   "id": "86b7cbb9-9db8-4cc1-8331-332523e90cea",
   "metadata": {},
   "outputs": [
    {
     "name": "stdin",
     "output_type": "stream",
     "text": [
      "Enter your second last name:  Saatlou\n"
     ]
    }
   ],
   "source": [
    "second_last_name = input(\"Enter your second last name: \")"
   ]
  },
  {
   "cell_type": "code",
   "execution_count": 87,
   "id": "3f55dab0-83df-46f6-9410-cba907ac3219",
   "metadata": {},
   "outputs": [
    {
     "name": "stdout",
     "output_type": "stream",
     "text": [
      "Hi      Pourmohammad\n",
      "  Aylin             Saatlou\n"
     ]
    }
   ],
   "source": [
    "print(f\"Hi      {last_name}\")\n",
    "print(f\"  {first_name}             {second_last_name}\")"
   ]
  },
  {
   "cell_type": "code",
   "execution_count": null,
   "id": "a4d3d758-4ecf-49b8-b27f-52fc48d0eb2f",
   "metadata": {},
   "outputs": [],
   "source": []
  }
 ],
 "metadata": {
  "kernelspec": {
   "display_name": "Python 3 (ipykernel)",
   "language": "python",
   "name": "python3"
  },
  "language_info": {
   "codemirror_mode": {
    "name": "ipython",
    "version": 3
   },
   "file_extension": ".py",
   "mimetype": "text/x-python",
   "name": "python",
   "nbconvert_exporter": "python",
   "pygments_lexer": "ipython3",
   "version": "3.12.9"
  }
 },
 "nbformat": 4,
 "nbformat_minor": 5
}
